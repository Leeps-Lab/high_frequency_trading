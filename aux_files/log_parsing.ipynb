{
 "cells": [
  {
   "cell_type": "code",
   "execution_count": 31,
   "metadata": {},
   "outputs": [],
   "source": [
    "import re\n",
    "import polars as pl"
   ]
  },
  {
   "cell_type": "code",
   "execution_count": 32,
   "metadata": {},
   "outputs": [],
   "source": [
    "# Function to parse the log file\n",
    "def parse_log_file(log_file_path):\n",
    "    user_list = []\n",
    "    token_list = []\n",
    "    \n",
    "    with open(log_file_path, \"r\") as f:\n",
    "        for line in f:\n",
    "            # Check if the line contains the word 'confirm'\n",
    "            if 'confirm' in line:\n",
    "                # Extract user and token using regular expressions\n",
    "                user_match = re.search(r'trader (\\d+): confirm', line)\n",
    "                token_match = re.search(r'token (\\w+)\\.', line)\n",
    "                \n",
    "                if user_match and token_match:\n",
    "                    user = user_match.group(1)\n",
    "                    token = token_match.group(1)\n",
    "                    \n",
    "                    user_list.append(user)\n",
    "                    token_list.append(token)\n",
    "\n",
    "    # Create a Polars DataFrame\n",
    "    df = pl.DataFrame(\n",
    "        {\n",
    "            \"user\": user_list,\n",
    "            \"token\": token_list\n",
    "        }\n",
    "    )\n",
    "\n",
    "    return df.unique()\n"
   ]
  },
  {
   "cell_type": "code",
   "execution_count": 33,
   "metadata": {},
   "outputs": [
    {
     "name": "stdout",
     "output_type": "stream",
     "text": [
      "shape: (422, 2)\n",
      "┌──────┬────────────────┐\n",
      "│ user ┆ token          │\n",
      "│ ---  ┆ ---            │\n",
      "│ str  ┆ str            │\n",
      "╞══════╪════════════════╡\n",
      "│ 1    ┆ INVEB000100047 │\n",
      "│ 3061 ┆ AAAAB306100009 │\n",
      "│ 1    ┆ INVEB000100043 │\n",
      "│ 3061 ┆ AAAAB306100299 │\n",
      "│ …    ┆ …              │\n",
      "│ 3061 ┆ AAAAB306100341 │\n",
      "│ 1    ┆ INVES000100021 │\n",
      "│ 1    ┆ INVES000100082 │\n",
      "│ 1    ┆ INVEB000100147 │\n",
      "└──────┴────────────────┘\n"
     ]
    }
   ],
   "source": [
    "# Path to your log file\n",
    "log_file_path = \"log_hft.txt\"\n",
    "\n",
    "# Parse the log file and create a Polars DataFrame\n",
    "df = parse_log_file(log_file_path)\n",
    "\n",
    "# Show the DataFrame\n",
    "print(df)\n"
   ]
  },
  {
   "cell_type": "code",
   "execution_count": 34,
   "metadata": {},
   "outputs": [],
   "source": [
    "# Count unique users per token\n",
    "users_by_token = df.groupby(\"token\").agg(\n",
    "    pl.col(\"user\").n_unique().alias(\"unique_users\")\n",
    ")"
   ]
  },
  {
   "cell_type": "code",
   "execution_count": 35,
   "metadata": {},
   "outputs": [
    {
     "data": {
      "text/html": [
       "<div><style>\n",
       ".dataframe > thead > tr > th,\n",
       ".dataframe > tbody > tr > td {\n",
       "  text-align: right;\n",
       "}\n",
       "</style>\n",
       "<small>shape: (0, 2)</small><table border=\"1\" class=\"dataframe\"><thead><tr><th>token</th><th>unique_users</th></tr><tr><td>str</td><td>u32</td></tr></thead><tbody></tbody></table></div>"
      ],
      "text/plain": [
       "shape: (0, 2)\n",
       "┌───────┬──────────────┐\n",
       "│ token ┆ unique_users │\n",
       "│ ---   ┆ ---          │\n",
       "│ str   ┆ u32          │\n",
       "╞═══════╪══════════════╡\n",
       "└───────┴──────────────┘"
      ]
     },
     "execution_count": 35,
     "metadata": {},
     "output_type": "execute_result"
    }
   ],
   "source": [
    "users_by_token.filter(pl.col(\"unique_users\") > 1)"
   ]
  },
  {
   "cell_type": "code",
   "execution_count": 36,
   "metadata": {},
   "outputs": [
    {
     "name": "stdout",
     "output_type": "stream",
     "text": [
      "shape: (3, 2)\n",
      "┌──────┬───────────────┐\n",
      "│ user ┆ unique_tokens │\n",
      "│ ---  ┆ ---           │\n",
      "│ str  ┆ u32           │\n",
      "╞══════╪═══════════════╡\n",
      "│ 3062 ┆ 86            │\n",
      "│ 3061 ┆ 106           │\n",
      "│ 1    ┆ 230           │\n",
      "└──────┴───────────────┘\n"
     ]
    }
   ],
   "source": [
    "# Count unique tokens per user\n",
    "tokens_by_user = df.groupby(\"user\").agg(\n",
    "    pl.col(\"token\").n_unique().alias(\"unique_tokens\")\n",
    ")\n",
    "\n",
    "print(tokens_by_user)"
   ]
  },
  {
   "cell_type": "code",
   "execution_count": 37,
   "metadata": {},
   "outputs": [],
   "source": [
    "def read_token_crossing_log(file_path):\n",
    "    buy_tokens = []\n",
    "    sell_tokens = []\n",
    "    crossing_prices = []\n",
    "    volumes = []\n",
    "    \n",
    "    # Regex pattern to extract buy token, sell token, crossing price, and volume\n",
    "    pattern = r\"Orders \\(b'(.*?)', b'(.*?)'\\) crossed at price (\\d+), volume (\\d+)\"\n",
    "    \n",
    "    # Read log file line-by-line and extract relevant information\n",
    "    with open(file_path, 'r') as f:\n",
    "        for line in f:\n",
    "            if 'root.process_cross' in line:\n",
    "                match = re.search(pattern, line)\n",
    "                if match:\n",
    "                    buy_token, sell_token, crossing_price, volume = match.groups()\n",
    "                    buy_tokens.append(buy_token)\n",
    "                    sell_tokens.append(sell_token)\n",
    "                    crossing_prices.append(int(crossing_price))\n",
    "                    volumes.append(int(volume))\n",
    "                    \n",
    "    # Create a DataFrame using the extracted information\n",
    "    df_crossing = pl.DataFrame({\n",
    "        'buy_token': buy_tokens,\n",
    "        'sell_token': sell_tokens,\n",
    "        'crossing_price': crossing_prices,\n",
    "        'volume': volumes\n",
    "    })\n",
    "    \n",
    "    return df_crossing.unique()"
   ]
  },
  {
   "cell_type": "code",
   "execution_count": 38,
   "metadata": {},
   "outputs": [
    {
     "name": "stdout",
     "output_type": "stream",
     "text": [
      "shape: (112, 4)\n",
      "┌────────────────┬────────────────┬────────────────┬────────┐\n",
      "│ buy_token      ┆ sell_token     ┆ crossing_price ┆ volume │\n",
      "│ ---            ┆ ---            ┆ ---            ┆ ---    │\n",
      "│ str            ┆ str            ┆ i64            ┆ i64    │\n",
      "╞════════════════╪════════════════╪════════════════╪════════╡\n",
      "│ BBBBS306200147 ┆ INVEB000100095 ┆ 1120000        ┆ 1      │\n",
      "│ BBBBB306200099 ┆ INVES000100077 ┆ 1150000        ┆ 1      │\n",
      "│ INVEB000100216 ┆ AAAAS306100318 ┆ 1140000        ┆ 1      │\n",
      "│ INVEB000100122 ┆ AAAAS306100172 ┆ 1040000        ┆ 1      │\n",
      "│ …              ┆ …              ┆ …              ┆ …      │\n",
      "│ AAAAS306100004 ┆ INVEB000100004 ┆ 1690000        ┆ 1      │\n",
      "│ INVES000100014 ┆ AAAAB306100014 ┆ 1680000        ┆ 1      │\n",
      "│ INVES000100027 ┆ BBBBB306200029 ┆ 1680000        ┆ 1      │\n",
      "│ INVES000100103 ┆ AAAAB306100148 ┆ 1090000        ┆ 1      │\n",
      "└────────────────┴────────────────┴────────────────┴────────┘\n"
     ]
    }
   ],
   "source": [
    "# Example usage\n",
    "file_path = 'log_exchange_server.txt'  # Replace with the actual path to your log file\n",
    "df_crossing = read_token_crossing_log(file_path)\n",
    "print(df_crossing)"
   ]
  },
  {
   "cell_type": "code",
   "execution_count": 39,
   "metadata": {},
   "outputs": [],
   "source": [
    "# Joining to get buyer information\n",
    "final_df = (\n",
    "    df_crossing\n",
    "    .join(df, left_on=\"buy_token\", right_on=\"token\", how=\"left\")\n",
    "    .rename({\"user\": \"buyer\"})\n",
    "    .join(df, left_on=\"sell_token\", right_on=\"token\", how=\"left\")\n",
    "    .rename({\"user\": \"seller\"})\n",
    "    )\n"
   ]
  },
  {
   "cell_type": "code",
   "execution_count": 40,
   "metadata": {},
   "outputs": [
    {
     "name": "stdout",
     "output_type": "stream",
     "text": [
      "shape: (112, 6)\n",
      "┌────────────────┬────────────────┬────────────────┬────────┬───────┬────────┐\n",
      "│ buy_token      ┆ sell_token     ┆ crossing_price ┆ volume ┆ buyer ┆ seller │\n",
      "│ ---            ┆ ---            ┆ ---            ┆ ---    ┆ ---   ┆ ---    │\n",
      "│ str            ┆ str            ┆ i64            ┆ i64    ┆ str   ┆ str    │\n",
      "╞════════════════╪════════════════╪════════════════╪════════╪═══════╪════════╡\n",
      "│ BBBBS306200147 ┆ INVEB000100095 ┆ 1120000        ┆ 1      ┆ 3062  ┆ 1      │\n",
      "│ BBBBB306200099 ┆ INVES000100077 ┆ 1150000        ┆ 1      ┆ 3062  ┆ 1      │\n",
      "│ INVEB000100216 ┆ AAAAS306100318 ┆ 1140000        ┆ 1      ┆ 1     ┆ 3061   │\n",
      "│ INVEB000100122 ┆ AAAAS306100172 ┆ 1040000        ┆ 1      ┆ 1     ┆ 3061   │\n",
      "│ …              ┆ …              ┆ …              ┆ …      ┆ …     ┆ …      │\n",
      "│ AAAAS306100004 ┆ INVEB000100004 ┆ 1690000        ┆ 1      ┆ 3061  ┆ 1      │\n",
      "│ INVES000100014 ┆ AAAAB306100014 ┆ 1680000        ┆ 1      ┆ 1     ┆ 3061   │\n",
      "│ INVES000100027 ┆ BBBBB306200029 ┆ 1680000        ┆ 1      ┆ 1     ┆ 3062   │\n",
      "│ INVES000100103 ┆ AAAAB306100148 ┆ 1090000        ┆ 1      ┆ 1     ┆ 3061   │\n",
      "└────────────────┴────────────────┴────────────────┴────────┴───────┴────────┘\n"
     ]
    }
   ],
   "source": [
    "print(final_df)\n"
   ]
  },
  {
   "cell_type": "code",
   "execution_count": 41,
   "metadata": {},
   "outputs": [],
   "source": [
    "self_crossing_df = final_df.filter(\n",
    "    (pl.col(\"buyer\") == pl.col(\"seller\")) &\n",
    "    (pl.col(\"buyer\") != \"1\")\n",
    ")\n"
   ]
  },
  {
   "cell_type": "code",
   "execution_count": 42,
   "metadata": {},
   "outputs": [
    {
     "name": "stdout",
     "output_type": "stream",
     "text": [
      "shape: (0, 6)\n",
      "┌───────────┬────────────┬────────────────┬────────┬───────┬────────┐\n",
      "│ buy_token ┆ sell_token ┆ crossing_price ┆ volume ┆ buyer ┆ seller │\n",
      "│ ---       ┆ ---        ┆ ---            ┆ ---    ┆ ---   ┆ ---    │\n",
      "│ str       ┆ str        ┆ i64            ┆ i64    ┆ str   ┆ str    │\n",
      "╞═══════════╪════════════╪════════════════╪════════╪═══════╪════════╡\n",
      "└───────────┴────────────┴────────────────┴────────┴───────┴────────┘\n"
     ]
    }
   ],
   "source": [
    "print(self_crossing_df)"
   ]
  },
  {
   "cell_type": "code",
   "execution_count": 43,
   "metadata": {},
   "outputs": [],
   "source": [
    "self_crossing_df.write_csv(\"self_crossing.csv\")"
   ]
  },
  {
   "cell_type": "code",
   "execution_count": 44,
   "metadata": {},
   "outputs": [],
   "source": [
    "filtered_df_missing_info = final_df.filter(\n",
    "    pl.col(\"buyer\").is_null() | pl.col(\"seller\").is_null()\n",
    ")"
   ]
  },
  {
   "cell_type": "code",
   "execution_count": 45,
   "metadata": {},
   "outputs": [
    {
     "data": {
      "text/html": [
       "<div><style>\n",
       ".dataframe > thead > tr > th,\n",
       ".dataframe > tbody > tr > td {\n",
       "  text-align: right;\n",
       "}\n",
       "</style>\n",
       "<small>shape: (0, 6)</small><table border=\"1\" class=\"dataframe\"><thead><tr><th>buy_token</th><th>sell_token</th><th>crossing_price</th><th>volume</th><th>buyer</th><th>seller</th></tr><tr><td>str</td><td>str</td><td>i64</td><td>i64</td><td>str</td><td>str</td></tr></thead><tbody></tbody></table></div>"
      ],
      "text/plain": [
       "shape: (0, 6)\n",
       "┌───────────┬────────────┬────────────────┬────────┬───────┬────────┐\n",
       "│ buy_token ┆ sell_token ┆ crossing_price ┆ volume ┆ buyer ┆ seller │\n",
       "│ ---       ┆ ---        ┆ ---            ┆ ---    ┆ ---   ┆ ---    │\n",
       "│ str       ┆ str        ┆ i64            ┆ i64    ┆ str   ┆ str    │\n",
       "╞═══════════╪════════════╪════════════════╪════════╪═══════╪════════╡\n",
       "└───────────┴────────────┴────────────────┴────────┴───────┴────────┘"
      ]
     },
     "execution_count": 45,
     "metadata": {},
     "output_type": "execute_result"
    }
   ],
   "source": [
    "filtered_df_missing_info"
   ]
  }
 ],
 "metadata": {
  "kernelspec": {
   "display_name": "env_engine_models",
   "language": "python",
   "name": "env_engine_models"
  },
  "language_info": {
   "codemirror_mode": {
    "name": "ipython",
    "version": 3
   },
   "file_extension": ".py",
   "mimetype": "text/x-python",
   "name": "python",
   "nbconvert_exporter": "python",
   "pygments_lexer": "ipython3",
   "version": "3.10.6"
  },
  "orig_nbformat": 4
 },
 "nbformat": 4,
 "nbformat_minor": 2
}
